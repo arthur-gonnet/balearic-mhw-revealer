{
 "cells": [
  {
   "cell_type": "code",
   "execution_count": 1,
   "id": "2f199e06",
   "metadata": {},
   "outputs": [
    {
     "name": "stdout",
     "output_type": "stream",
     "text": [
      "/LOCALDATA/ARTHURs_FILES/Codigos\n"
     ]
    }
   ],
   "source": [
    "# Change Python path\n",
    "import os, sys\n",
    "os.chdir(\"/LOCALDATA/ARTHURs_FILES/Codigos/\")\n",
    "print(os.getcwd())\n",
    "sys.path.append('python_modules')\n",
    "\n",
    "# Enables modules autoreload (important during development)\n",
    "%load_ext autoreload\n",
    "%autoreload 2"
   ]
  },
  {
   "cell_type": "code",
   "execution_count": 380,
   "id": "374d9e90",
   "metadata": {},
   "outputs": [],
   "source": [
    "from data_managers.load_dataset import load_cmems_sst, load_cmems_mfc, load_dragonera_insitu\n",
    "\n",
    "# Load CMEMS-SST data near Dragonera\n",
    "ds_cmems_sst = load_cmems_sst(\n",
    "    years=range(2009, 2023),\n",
    "    lon_selector=2.10,\n",
    "    lat_selector=39.56,\n",
    ")\n",
    "\n",
    "# Load CMEMS-MFC data near Dragonera at surface (0m) and depth (3m)\n",
    "ds_cmems_mfc = load_cmems_mfc(\n",
    "    years=range(2009, 2022),\n",
    "    lon_selector=2.10,\n",
    "    lat_selector=39.56,\n",
    "    depth_selector=[0,3],\n",
    "    move_to_0am=True\n",
    ")\n",
    "ds_cmems_mfc_sst = ds_cmems_mfc.sel(depth=0, method=\"nearest\")\n",
    "ds_cmems_mfc_d   = ds_cmems_mfc.sel(depth=3, method=\"nearest\")\n",
    "\n",
    "# Use all data and avg window centered at 12am (still, result is at 0am)\n",
    "ds_dragonera_insitu_daily = load_dragonera_insitu(daily_avg=True, drop_depth=True)\n",
    "\n",
    "# Use only nightime data and avg window centered at 12am THIS ONE IS USED FINALLY\n",
    "ds_dragonera_insitu_daily_night = load_dragonera_insitu(\n",
    "    nightime_data=True,\n",
    "    daily_avg=True,\n",
    "    drop_depth=True\n",
    ")"
   ]
  },
  {
   "cell_type": "markdown",
   "id": "137f5e9e",
   "metadata": {},
   "source": [
    "_ _ _ _"
   ]
  },
  {
   "cell_type": "code",
   "execution_count": 381,
   "id": "a7163130",
   "metadata": {},
   "outputs": [],
   "source": [
    "from data_statistics.compare_datasets import basic_stats"
   ]
  },
  {
   "cell_type": "code",
   "execution_count": 385,
   "id": "2af620d7",
   "metadata": {},
   "outputs": [
    {
     "name": "stdout",
     "output_type": "stream",
     "text": [
      "Bias: 0.07 °C (0.065689)\n",
      "RMSE: 0.36 °C (0.361619)\n",
      "STDE: 0.36 °C (0.355602)\n"
     ]
    }
   ],
   "source": [
    "# SST - Insitu\n",
    "basic_stats(ds_cmems_sst, ds_dragonera_insitu_daily_night, var_name=\"T\")"
   ]
  },
  {
   "cell_type": "code",
   "execution_count": 386,
   "id": "ccdba828",
   "metadata": {},
   "outputs": [
    {
     "name": "stdout",
     "output_type": "stream",
     "text": [
      "Bias: 0.09 °C (0.090233)\n",
      "RMSE: 0.18 °C (0.182481)\n",
      "STDE: 0.16 °C (0.158610)\n"
     ]
    }
   ],
   "source": [
    "# MFCs - MFCd\n",
    "basic_stats(ds_cmems_mfc_sst, ds_cmems_mfc_d, var_name=\"T\")"
   ]
  },
  {
   "cell_type": "code",
   "execution_count": 387,
   "id": "7fe71613",
   "metadata": {},
   "outputs": [
    {
     "name": "stdout",
     "output_type": "stream",
     "text": [
      "[########################################] | 100% Completed | 60.14 s\n",
      "Bias: -0.21 °C (-0.212624)\n",
      "RMSE: 0.47 °C (0.472063)\n",
      "STDE: 0.42 °C (0.421467)\n"
     ]
    }
   ],
   "source": [
    "# MFCd - Insitu (all day)\n",
    "basic_stats(ds_cmems_mfc_d, ds_dragonera_insitu_daily, var_name=\"T\")"
   ]
  },
  {
   "cell_type": "code",
   "execution_count": 388,
   "id": "bf39585a",
   "metadata": {},
   "outputs": [
    {
     "name": "stdout",
     "output_type": "stream",
     "text": [
      "[########################################] | 100% Completed | 86.65 s\n",
      "Bias: -0.12 °C (-0.124806)\n",
      "RMSE: 0.39 °C (0.390683)\n",
      "STDE: 0.37 °C (0.370212)\n"
     ]
    }
   ],
   "source": [
    "# MFCd - Insitu (night)\n",
    "basic_stats(ds_cmems_mfc_d, ds_dragonera_insitu_daily_night, var_name=\"T\")"
   ]
  },
  {
   "cell_type": "code",
   "execution_count": 390,
   "id": "27c7fd9d",
   "metadata": {},
   "outputs": [
    {
     "name": "stdout",
     "output_type": "stream",
     "text": [
      "[########################################] | 100% Completed | 113.83 s\n",
      "Bias: -0.10 °C (-0.103165)\n",
      "RMSE: 0.44 °C (0.436852)\n",
      "STDE: 0.42 °C (0.424496)\n"
     ]
    }
   ],
   "source": [
    "# MFCs - SSST\n",
    "basic_stats(ds_cmems_mfc_sst, ds_cmems_sst, var_name=\"T\")"
   ]
  },
  {
   "cell_type": "markdown",
   "id": "ee1f216f",
   "metadata": {},
   "source": [
    "## SST - In situ all data average centered at 0am"
   ]
  },
  {
   "cell_type": "code",
   "execution_count": 178,
   "id": "d8b1b775",
   "metadata": {},
   "outputs": [
    {
     "data": {
      "text/plain": [
       "Coordinates:\n",
       "    lat      float32 4B 39.55\n",
       "    lon      float32 4B 2.094\n",
       "  * time     (time) datetime64[ns] 41kB 2009-01-01 2009-01-02 ... 2022-12-31"
      ]
     },
     "execution_count": 178,
     "metadata": {},
     "output_type": "execute_result"
    }
   ],
   "source": [
    "ds_cmems_sst.coords"
   ]
  },
  {
   "cell_type": "code",
   "execution_count": 179,
   "id": "e9ffebd1",
   "metadata": {},
   "outputs": [
    {
     "data": {
      "text/plain": [
       "Coordinates:\n",
       "    lon      float64 8B 2.1\n",
       "    lat      float64 8B 39.56\n",
       "  * time     (time) datetime64[ns] 46kB 2009-08-14 2009-08-15 ... 2025-04-30"
      ]
     },
     "execution_count": 179,
     "metadata": {},
     "output_type": "execute_result"
    }
   ],
   "source": [
    "ds_dragonera_insitu_daily_0am.coords"
   ]
  },
  {
   "cell_type": "code",
   "execution_count": 180,
   "id": "48afb68d",
   "metadata": {},
   "outputs": [
    {
     "data": {
      "text/plain": [
       "Coordinates:\n",
       "  * time     (time) datetime64[ns] 39kB 2009-08-14 2009-08-15 ... 2022-12-31"
      ]
     },
     "execution_count": 180,
     "metadata": {},
     "output_type": "execute_result"
    }
   ],
   "source": [
    "ds_cmems_sst_m_insitu_0am = ds_cmems_sst - ds_dragonera_insitu_daily_0am\n",
    "ds_cmems_sst_m_insitu_0am.coords"
   ]
  },
  {
   "cell_type": "code",
   "execution_count": 181,
   "id": "44318317",
   "metadata": {},
   "outputs": [
    {
     "name": "stdout",
     "output_type": "stream",
     "text": [
      "Bias: -0.03 °C (-0.028585)\n",
      "RMSE: 0.39 °C (0.388920)\n",
      "STD: 0.39 °C (0.387869)\n"
     ]
    }
   ],
   "source": [
    "da = ds_cmems_sst_m_insitu_0am.T\n",
    "\n",
    "mean = da.mean().values\n",
    "print(f\"Bias: {mean:.2f} °C ({mean:.6f})\")\n",
    "\n",
    "rmse = ((da**2).mean() ** 0.5).values\n",
    "print(f\"RMSE: {rmse:.2f} °C ({rmse:.6f})\")\n",
    "\n",
    "std = da.std().values\n",
    "print(f\"STD: {std:.2f} °C ({std:.6f})\")"
   ]
  },
  {
   "cell_type": "markdown",
   "id": "c250b0bc",
   "metadata": {},
   "source": [
    "## SST - In situ all data average centered at 12am"
   ]
  },
  {
   "cell_type": "code",
   "execution_count": 187,
   "id": "5ec504d1",
   "metadata": {},
   "outputs": [
    {
     "data": {
      "text/plain": [
       "Coordinates:\n",
       "    lat      float32 4B 39.55\n",
       "    lon      float32 4B 2.094\n",
       "  * time     (time) datetime64[ns] 41kB 2009-01-01 2009-01-02 ... 2022-12-31"
      ]
     },
     "execution_count": 187,
     "metadata": {},
     "output_type": "execute_result"
    }
   ],
   "source": [
    "ds_cmems_sst.coords"
   ]
  },
  {
   "cell_type": "code",
   "execution_count": 188,
   "id": "6ed3ce42",
   "metadata": {},
   "outputs": [
    {
     "data": {
      "text/plain": [
       "Coordinates:\n",
       "    lon      float64 8B 2.1\n",
       "    lat      float64 8B 39.56\n",
       "  * time     (time) datetime64[ns] 46kB 2009-08-14 2009-08-15 ... 2025-04-30"
      ]
     },
     "execution_count": 188,
     "metadata": {},
     "output_type": "execute_result"
    }
   ],
   "source": [
    "ds_dragonera_insitu_daily_12am.coords"
   ]
  },
  {
   "cell_type": "code",
   "execution_count": 189,
   "id": "51c71d86",
   "metadata": {},
   "outputs": [
    {
     "data": {
      "text/plain": [
       "Coordinates:\n",
       "  * time     (time) datetime64[ns] 39kB 2009-08-14 2009-08-15 ... 2022-12-31"
      ]
     },
     "execution_count": 189,
     "metadata": {},
     "output_type": "execute_result"
    }
   ],
   "source": [
    "ds_cmems_sst_m_insitu_12am = ds_cmems_sst - ds_dragonera_insitu_daily_12am\n",
    "ds_cmems_sst_m_insitu_12am.coords"
   ]
  },
  {
   "cell_type": "code",
   "execution_count": 190,
   "id": "287d50ab",
   "metadata": {},
   "outputs": [
    {
     "name": "stdout",
     "output_type": "stream",
     "text": [
      "Bias: -0.02 °C (-0.023842)\n",
      "RMSE: 0.35 °C (0.353305)\n",
      "STD: 0.35 °C (0.352499)\n"
     ]
    }
   ],
   "source": [
    "da = ds_cmems_sst_m_insitu_12am.T\n",
    "\n",
    "mean = da.mean().values\n",
    "print(f\"Bias: {mean:.2f} °C ({mean:.6f})\")\n",
    "\n",
    "rmse = ((da**2).mean() ** 0.5).values\n",
    "print(f\"RMSE: {rmse:.2f} °C ({rmse:.6f})\")\n",
    "\n",
    "std = da.std().values\n",
    "print(f\"STD: {std:.2f} °C ({std:.6f})\")"
   ]
  },
  {
   "cell_type": "markdown",
   "id": "5749c8d3",
   "metadata": {},
   "source": [
    "## SST - In situ nightime data average centered at 0am"
   ]
  },
  {
   "cell_type": "code",
   "execution_count": null,
   "id": "2ed8c898",
   "metadata": {},
   "outputs": [
    {
     "data": {
      "text/plain": [
       "Coordinates:\n",
       "  * time     (time) datetime64[ns] 39kB 2009-08-14 2009-08-15 ... 2022-12-31"
      ]
     },
     "metadata": {},
     "output_type": "display_data"
    }
   ],
   "source": [
    "ds_cmems_sst_m_insitu_night = ds_cmems_sst - ds_dragonera_insitu_daily_night\n",
    "ds_cmems_sst_m_insitu_night.coords"
   ]
  },
  {
   "cell_type": "code",
   "execution_count": null,
   "id": "b41252d5",
   "metadata": {},
   "outputs": [
    {
     "name": "stdout",
     "output_type": "stream",
     "text": [
      "Bias: 0.07 °C (0.070221)\n",
      "RMSE: 0.40 °C (0.397853)\n",
      "STD: 0.39 °C (0.391607)\n"
     ]
    }
   ],
   "source": [
    "da = ds_cmems_sst_m_insitu_night.T\n",
    "\n",
    "mean = da.mean().values\n",
    "print(f\"Bias: {mean:.2f} °C ({mean:.6f})\")\n",
    "\n",
    "rmse = ((da**2).mean() ** 0.5).values\n",
    "print(f\"RMSE: {rmse:.2f} °C ({rmse:.6f})\")\n",
    "\n",
    "std = da.std().values\n",
    "print(f\"STD: {std:.2f} °C ({std:.6f})\")"
   ]
  },
  {
   "cell_type": "markdown",
   "id": "8f62bcff",
   "metadata": {},
   "source": [
    "## SST - In situ nightime data average centered at 12am (considering 6am)"
   ]
  },
  {
   "cell_type": "code",
   "execution_count": null,
   "id": "04e090ae",
   "metadata": {},
   "outputs": [
    {
     "data": {
      "text/plain": [
       "Coordinates:\n",
       "  * time     (time) datetime64[ns] 39kB 2009-08-14 2009-08-15 ... 2022-12-31"
      ]
     },
     "metadata": {},
     "output_type": "display_data"
    }
   ],
   "source": [
    "# CODE NOT UP TO DATE\n",
    "ds_cmems_sst_m_insitu_night_12am = ds_cmems_sst - ds_dragonera_insitu_daily_night_12am\n",
    "ds_cmems_sst_m_insitu_night_12am.coords"
   ]
  },
  {
   "cell_type": "code",
   "execution_count": null,
   "id": "c6f3f373",
   "metadata": {},
   "outputs": [
    {
     "name": "stdout",
     "output_type": "stream",
     "text": [
      "Bias: 0.07 °C (0.072996)\n",
      "RMSE: 0.37 °C (0.366480)\n",
      "STD: 0.36 °C (0.359136)\n"
     ]
    }
   ],
   "source": [
    "da = ds_cmems_sst_m_insitu_night_12am.T\n",
    "\n",
    "mean = da.mean().values\n",
    "print(f\"Bias: {mean:.2f} °C ({mean:.6f})\")\n",
    "\n",
    "rmse = ((da**2).mean() ** 0.5).values\n",
    "print(f\"RMSE: {rmse:.2f} °C ({rmse:.6f})\")\n",
    "\n",
    "std = da.std().values\n",
    "print(f\"STD: {std:.2f} °C ({std:.6f})\")"
   ]
  },
  {
   "cell_type": "markdown",
   "id": "c6354b4b",
   "metadata": {},
   "source": [
    "## SST - In situ nightime data average centered at 12am  (not considering 6am)"
   ]
  },
  {
   "cell_type": "code",
   "execution_count": 365,
   "id": "8c60e029",
   "metadata": {},
   "outputs": [
    {
     "data": {
      "text/plain": [
       "Coordinates:\n",
       "    lon      float64 8B 2.1\n",
       "    lat      float64 8B 39.56\n",
       "  * time     (time) datetime64[ns] 46kB 2009-08-14 2009-08-15 ... 2025-04-30"
      ]
     },
     "execution_count": 365,
     "metadata": {},
     "output_type": "execute_result"
    }
   ],
   "source": [
    "ds_dragonera_insitu_daily_night_12am_n6am = load_dragonera_insitu(\n",
    "    nightime_data=True,\n",
    "    daily_avg=True,\n",
    "    drop_depth=True\n",
    ")\n",
    "ds_dragonera_insitu_daily_night_12am_n6am.coords"
   ]
  },
  {
   "cell_type": "code",
   "execution_count": 366,
   "id": "b74225c5",
   "metadata": {},
   "outputs": [
    {
     "name": "stdout",
     "output_type": "stream",
     "text": [
      "Got nans in the time serie : 968/5739\n"
     ]
    }
   ],
   "source": [
    "import numpy as np\n",
    "print(f\"Got nans in the time serie : {ds_dragonera_insitu_daily_night_12am_n6am.T.isnull().sum().values}/{ds_dragonera_insitu_daily_night_12am_n6am.T.size}\")"
   ]
  },
  {
   "cell_type": "code",
   "execution_count": 367,
   "id": "117efa51",
   "metadata": {},
   "outputs": [
    {
     "data": {
      "text/plain": [
       "Coordinates:\n",
       "  * time     (time) datetime64[ns] 39kB 2009-08-14 2009-08-15 ... 2022-12-31"
      ]
     },
     "execution_count": 367,
     "metadata": {},
     "output_type": "execute_result"
    }
   ],
   "source": [
    "ds_cmems_sst_m_insitu_night_12am_n6am = ds_cmems_sst - ds_dragonera_insitu_daily_night_12am_n6am\n",
    "ds_cmems_sst_m_insitu_night_12am_n6am.coords"
   ]
  },
  {
   "cell_type": "code",
   "execution_count": 368,
   "id": "9f938606",
   "metadata": {},
   "outputs": [
    {
     "name": "stdout",
     "output_type": "stream",
     "text": [
      "Bias: 0.07 °C (0.065689)\n",
      "RMSE: 0.36 °C (0.361619)\n",
      "STD: 0.36 °C (0.355602)\n"
     ]
    }
   ],
   "source": [
    "da = ds_cmems_sst_m_insitu_night_12am_n6am.T.values\n",
    "\n",
    "print(f\"Bias: {np.nanmean(da):.2f} °C ({np.nanmean(da):.6f})\")\n",
    "print(f\"RMSE: {(np.nanmean(da**2) ** 0.5):.2f} °C ({(np.nanmean(da**2) ** 0.5):.6f})\")\n",
    "print(f\"STD: {np.nanstd(da):.2f} °C ({np.nanstd(da):.6f})\")"
   ]
  },
  {
   "cell_type": "markdown",
   "id": "2ebc385d",
   "metadata": {},
   "source": [
    "## SST - Insitu Foundation temperature"
   ]
  },
  {
   "cell_type": "code",
   "execution_count": null,
   "id": "eb4e1187",
   "metadata": {},
   "outputs": [
    {
     "data": {
      "text/plain": [
       "Coordinates:\n",
       "  * time     (time) datetime64[ns] 46kB 2009-08-15 2009-08-16 ... 2025-04-30\n",
       "    lon      float64 8B 2.1\n",
       "    lat      float64 8B 39.56\n",
       "    depth    int64 8B 3"
      ]
     },
     "execution_count": 194,
     "metadata": {},
     "output_type": "execute_result"
    }
   ],
   "source": [
    "ds_dragonera_insitu_foundation = ds_dragonera_insitu.isel(time=(\n",
    "    ds_dragonera_insitu.time.dt.hour == 0\n",
    "))\n",
    "ds_dragonera_insitu_foundation.coords"
   ]
  },
  {
   "cell_type": "code",
   "execution_count": 195,
   "id": "f838fe66",
   "metadata": {},
   "outputs": [
    {
     "data": {
      "text/plain": [
       "Coordinates:\n",
       "  * time     (time) datetime64[ns] 39kB 2009-08-15 2009-08-16 ... 2022-12-31\n",
       "    depth    int64 8B 3"
      ]
     },
     "execution_count": 195,
     "metadata": {},
     "output_type": "execute_result"
    }
   ],
   "source": [
    "ds_cmems_sst_m_insitu_foundation = ds_cmems_sst - ds_dragonera_insitu_foundation\n",
    "ds_cmems_sst_m_insitu_foundation.coords"
   ]
  },
  {
   "cell_type": "code",
   "execution_count": 196,
   "id": "fd7b32e2",
   "metadata": {},
   "outputs": [
    {
     "name": "stdout",
     "output_type": "stream",
     "text": [
      "Bias: 0.05 °C (0.051787)\n",
      "RMSE: 0.41 °C (0.406290)\n",
      "STD: 0.40 °C (0.402976)\n"
     ]
    }
   ],
   "source": [
    "da = ds_cmems_sst_m_insitu_foundation.T\n",
    "\n",
    "mean = da.mean().values\n",
    "print(f\"Bias: {mean:.2f} °C ({mean:.6f})\")\n",
    "\n",
    "rmse = ((da**2).mean() ** 0.5).values\n",
    "print(f\"RMSE: {rmse:.2f} °C ({rmse:.6f})\")\n",
    "\n",
    "std = da.std().values\n",
    "print(f\"STD: {std:.2f} °C ({std:.6f})\")"
   ]
  },
  {
   "cell_type": "markdown",
   "id": "95ab91f5",
   "metadata": {},
   "source": [
    "## MFC - In situ"
   ]
  },
  {
   "cell_type": "code",
   "execution_count": 369,
   "id": "bc056619",
   "metadata": {},
   "outputs": [
    {
     "data": {
      "text/plain": [
       "Coordinates:\n",
       "    depth    float32 4B 3.166\n",
       "    lat      float32 4B 39.56\n",
       "    lon      float32 4B 2.083\n",
       "  * time     (time) datetime64[ns] 38kB 2009-01-01 2009-01-02 ... 2021-12-31"
      ]
     },
     "execution_count": 369,
     "metadata": {},
     "output_type": "execute_result"
    }
   ],
   "source": [
    "ds_cmems_mfc_d.coords"
   ]
  },
  {
   "cell_type": "code",
   "execution_count": 370,
   "id": "c50e02ba",
   "metadata": {},
   "outputs": [
    {
     "data": {
      "text/plain": [
       "Coordinates:\n",
       "    lon      float64 8B 2.1\n",
       "    lat      float64 8B 39.56\n",
       "  * time     (time) datetime64[ns] 46kB 2009-08-14 2009-08-15 ... 2025-04-30"
      ]
     },
     "execution_count": 370,
     "metadata": {},
     "output_type": "execute_result"
    }
   ],
   "source": [
    "ds_dragonera_insitu_daily_12am.coords"
   ]
  },
  {
   "cell_type": "code",
   "execution_count": 371,
   "id": "431279c5",
   "metadata": {},
   "outputs": [
    {
     "data": {
      "text/plain": [
       "Coordinates:\n",
       "  * time     (time) datetime64[ns] 36kB 2009-08-14 2009-08-15 ... 2021-12-31\n",
       "    depth    float32 4B 3.166"
      ]
     },
     "execution_count": 371,
     "metadata": {},
     "output_type": "execute_result"
    }
   ],
   "source": [
    "ds_mfc_m_insitu = ds_cmems_mfc_d - ds_dragonera_insitu_daily_12am\n",
    "ds_mfc_m_insitu.coords"
   ]
  },
  {
   "cell_type": "code",
   "execution_count": 372,
   "id": "a79b3fed",
   "metadata": {},
   "outputs": [
    {
     "name": "stdout",
     "output_type": "stream",
     "text": [
      "Bias: -0.21 °C (-0.213067)\n",
      "RMSE: 0.48 °C (0.478511)\n",
      "STD: 0.43 °C (0.428457)\n"
     ]
    }
   ],
   "source": [
    "da = ds_mfc_m_insitu.T.values\n",
    "\n",
    "print(f\"Bias: {np.nanmean(da):.2f} °C ({np.nanmean(da):.6f})\")\n",
    "print(f\"RMSE: {(np.nanmean(da**2) ** 0.5):.2f} °C ({(np.nanmean(da**2) ** 0.5):.6f})\")\n",
    "print(f\"STD: {np.nanstd(da):.2f} °C ({np.nanstd(da):.6f})\")"
   ]
  },
  {
   "cell_type": "markdown",
   "id": "e679c5d0",
   "metadata": {},
   "source": [
    "## MFCs - MFCd"
   ]
  },
  {
   "cell_type": "code",
   "execution_count": 307,
   "id": "04afde17",
   "metadata": {},
   "outputs": [
    {
     "data": {
      "text/plain": [
       "Coordinates:\n",
       "    depth    float32 4B 3.166\n",
       "    lat      float32 4B 39.56\n",
       "    lon      float32 4B 2.083\n",
       "  * time     (time) datetime64[ns] 38kB 2009-01-01 2009-01-02 ... 2021-12-31"
      ]
     },
     "execution_count": 307,
     "metadata": {},
     "output_type": "execute_result"
    }
   ],
   "source": [
    "ds_cmems_mfc_d.coords"
   ]
  },
  {
   "cell_type": "code",
   "execution_count": 308,
   "id": "15790c19",
   "metadata": {},
   "outputs": [
    {
     "data": {
      "text/plain": [
       "Coordinates:\n",
       "    depth    float32 4B 1.018\n",
       "    lat      float32 4B 39.56\n",
       "    lon      float32 4B 2.083\n",
       "  * time     (time) datetime64[ns] 38kB 2009-01-01 2009-01-02 ... 2021-12-31"
      ]
     },
     "execution_count": 308,
     "metadata": {},
     "output_type": "execute_result"
    }
   ],
   "source": [
    "ds_cmems_mfc_sst.coords"
   ]
  },
  {
   "cell_type": "code",
   "execution_count": 314,
   "id": "ef1c98aa",
   "metadata": {},
   "outputs": [
    {
     "data": {
      "text/plain": [
       "Coordinates:\n",
       "    lat      float32 4B 39.56\n",
       "    lon      float32 4B 2.083\n",
       "  * time     (time) datetime64[ns] 38kB 2009-01-01 2009-01-02 ... 2021-12-31"
      ]
     },
     "execution_count": 314,
     "metadata": {},
     "output_type": "execute_result"
    }
   ],
   "source": [
    "ds_mfcs_m_mfcd = ds_cmems_mfc_sst - ds_cmems_mfc_d\n",
    "ds_mfcs_m_mfcd.coords"
   ]
  },
  {
   "cell_type": "code",
   "execution_count": 315,
   "id": "0c55fa24",
   "metadata": {},
   "outputs": [
    {
     "name": "stdout",
     "output_type": "stream",
     "text": [
      "Bias: 0.09 °C\n",
      "RMSE: 0.18 °C\n",
      "STD: 0.16 °C\n"
     ]
    }
   ],
   "source": [
    "da = ds_mfcs_m_mfcd.T.values\n",
    "\n",
    "print(f\"Bias: {da.mean():.2f} °C\")\n",
    "print(f\"RMSE: {((da**2).mean() ** 0.5):.2f} °C\")\n",
    "print(f\"STD: {da.std():.2f} °C\")"
   ]
  },
  {
   "cell_type": "markdown",
   "id": "7eaf6083",
   "metadata": {},
   "source": [
    "## MFC - SST"
   ]
  },
  {
   "cell_type": "code",
   "execution_count": null,
   "id": "29c0aafe",
   "metadata": {},
   "outputs": [
    {
     "data": {
      "text/plain": [
       "Coordinates:\n",
       "    lat      float32 4B 39.56\n",
       "    lon      float32 4B 2.083\n",
       "  * time     (time) datetime64[ns] 38kB 2009-01-01 2009-01-02 ... 2021-12-31"
      ]
     },
     "execution_count": 55,
     "metadata": {},
     "output_type": "execute_result"
    }
   ],
   "source": [
    "ds_cmems_mfc_sst.coords"
   ]
  },
  {
   "cell_type": "code",
   "execution_count": 56,
   "id": "f329a3e1",
   "metadata": {},
   "outputs": [
    {
     "data": {
      "text/plain": [
       "Coordinates:\n",
       "    lat      float32 4B 39.55\n",
       "    lon      float32 4B 2.094\n",
       "  * time     (time) datetime64[ns] 41kB 2009-01-01 2009-01-02 ... 2022-12-31"
      ]
     },
     "execution_count": 56,
     "metadata": {},
     "output_type": "execute_result"
    }
   ],
   "source": [
    "ds_cmems_sst.coords"
   ]
  },
  {
   "cell_type": "code",
   "execution_count": null,
   "id": "bc1c21dc",
   "metadata": {},
   "outputs": [
    {
     "data": {
      "text/plain": [
       "Coordinates:\n",
       "  * time     (time) datetime64[ns] 38kB 2009-01-01 2009-01-02 ... 2021-12-31"
      ]
     },
     "execution_count": 62,
     "metadata": {},
     "output_type": "execute_result"
    }
   ],
   "source": [
    "ds_mfc_m_sst = ds_cmems_mfc_sst - ds_cmems_sst\n",
    "ds_mfc_m_sst.coords"
   ]
  },
  {
   "cell_type": "code",
   "execution_count": 54,
   "id": "b05a8e79",
   "metadata": {},
   "outputs": [
    {
     "name": "stdout",
     "output_type": "stream",
     "text": [
      "Bias: -0.10 °C\n",
      "RMSE: 0.44 °C\n",
      "STD: 0.42 °C\n"
     ]
    }
   ],
   "source": [
    "da = ds_mfc_m_sst.T\n",
    "\n",
    "print(f\"Bias: {da.mean().values:.2f} °C\")\n",
    "print(f\"RMSE: {((da**2).mean() ** 0.5).values:.2f} °C\")\n",
    "print(f\"STD: {da.std().values:.2f} °C\")"
   ]
  },
  {
   "cell_type": "markdown",
   "id": "b2543e45",
   "metadata": {},
   "source": [
    "## Messy plots"
   ]
  },
  {
   "cell_type": "code",
   "execution_count": 281,
   "id": "5a0e9a97",
   "metadata": {},
   "outputs": [
    {
     "data": {
      "image/png": "[encoded data removed]",
      "text/plain": [
       "<Figure size 1800x500 with 1 Axes>"
      ]
     },
     "metadata": {},
     "output_type": "display_data"
    }
   ],
   "source": [
    "from data_plotters.timeseries_TEMP import plot_timeserie\n",
    "from datetime import datetime\n",
    "import matplotlib.pyplot as plt\n",
    "\n",
    "date_start = datetime(2020, 6, 30)\n",
    "date_end = datetime(2020, 7, 8)\n",
    "\n",
    "plot_timeserie(\n",
    "    vars = {\n",
    "        \"SST\": ds_cmems_sst.T.sel(time=slice(date_start, date_end)),\n",
    "        # \"MFCs\": ds_cmems_mfc_sst.T.sel(time=slice(date_start, date_end)),\n",
    "        # \"MFCd\": ds_cmems_mfc_d.T.sel(time=slice(date_start, date_end)),\n",
    "        \"insitu\": ds_dragonera_insitu.T.sel(time=slice(date_start, date_end)),\n",
    "        # \"insitun\": ds_dragonera_insitu.T.where((\n",
    "        #     (ds_dragonera_insitu.time.dt.hour <= 6) |\n",
    "        #     (ds_dragonera_insitu.time.dt.hour >= 21)\n",
    "        # )).sel(time=slice(date_start, date_end)),\n",
    "        # \"insitud\": ds_dragonera_insitu.T.where((\n",
    "        #     (ds_dragonera_insitu.time.dt.hour >= 6) &\n",
    "        #     (ds_dragonera_insitu.time.dt.hour <= 21)\n",
    "        # )).sel(time=slice(date_start, date_end)),\n",
    "        # \"insitu0am\": ds_dragonera_insitu_daily_0am.T.sel(time=slice(date_start, date_end)),\n",
    "        \"insitu12am\": ds_dragonera_insitu_daily_12am.T.sel(time=slice(date_start, date_end)),\n",
    "        # \"insitunight0am\": ds_dragonera_insitu_daily_night.T.sel(time=slice(date_start, date_end)),\n",
    "        # \"insitunight12am\": ds_dragonera_insitu_daily_night_12am.T.sel(time=slice(date_start, date_end)),\n",
    "        # \"insitufoundation\": ds_dragonera_insitu_foundation.T.sel(time=slice(date_start, date_end)),\n",
    "    },\n",
    "    times = {\n",
    "        \"SST\": ds_cmems_sst.time.sel(time=slice(date_start, date_end)),\n",
    "        \"MFCs\": ds_cmems_mfc_sst.time.sel(time=slice(date_start, date_end)),\n",
    "        \"MFCd\": ds_cmems_mfc_d.time.sel(time=slice(date_start, date_end)),\n",
    "        \"insitu\": ds_dragonera_insitu.time.sel(time=slice(date_start, date_end)),\n",
    "        \"insitun\": ds_dragonera_insitu.time.where((\n",
    "            (ds_dragonera_insitu.time.dt.hour <= 6) |\n",
    "            (ds_dragonera_insitu.time.dt.hour >= 21)\n",
    "        )).sel(time=slice(date_start, date_end)),\n",
    "        \"insitud\": ds_dragonera_insitu.time.where((\n",
    "            (ds_dragonera_insitu.time.dt.hour >= 6) |\n",
    "            (ds_dragonera_insitu.time.dt.hour <= 21)\n",
    "        )).sel(time=slice(date_start, date_end)),\n",
    "        \"insitu0am\": ds_dragonera_insitu_daily_0am.time.sel(time=slice(date_start, date_end)),\n",
    "        \"insitu12am\": ds_dragonera_insitu_daily_12am.time.sel(time=slice(date_start, date_end)),\n",
    "        \"insitunight0am\": ds_dragonera_insitu_daily_night.time.sel(time=slice(date_start, date_end)),\n",
    "        \"insitunight12am\": ds_dragonera_insitu_daily_night_12am.time.sel(time=slice(date_start, date_end)),\n",
    "        \"insitufoundation\": ds_dragonera_insitu_foundation.time.sel(time=slice(date_start, date_end)),\n",
    "    },\n",
    "    labels = {\n",
    "        \"SST\": \"CMEMS-SST\",\n",
    "        \"MFCs\": \"CMEMS-MFC SST\",\n",
    "        \"MFCd\": \"CMEMS-MFC 3m\",\n",
    "        \"insitu\": \"In situ\",\n",
    "        \"insitun\": \"In situ night\",\n",
    "        \"insitud\": \"In situ day\",\n",
    "        \"insitu0am\": \"In situ data daily 0am\",\n",
    "        \"insitu12am\": \"In situ data daily 12am\",\n",
    "        \"insitunight0am\": \"In situ night data daily 0am\",\n",
    "        \"insitunight12am\": \"In situ night data daily 12am\",\n",
    "        \"insitufoundation\": \"In situ foundation data\",\n",
    "    },\n",
    "    colors = {\n",
    "        \"SST\": \"#2665DACC\",\n",
    "        \"MFCs\": \"CMEMS-MFC SST\",\n",
    "        \"MFCd\": \"CMEMS-MFC 3m\",\n",
    "        \"insitu\": \"#DA3226CC\",\n",
    "        \"insitun\": \"r\",\n",
    "        \"insitud\": \"#919191A1\",\n",
    "        \"insitu0am\": \"#54BD23CC\",\n",
    "        \"insitu12am\": \"#A926D1CC\",\n",
    "        \"insitunight0am\": \"#2330DFCC\",\n",
    "        \"insitunight12am\": \"#8559D8CC\",\n",
    "        \"insitufoundation\": \"#DDBA1CCC\",\n",
    "        # \"Dragonera insitu\": \"#DA3226CC\",\n",
    "        # \"CMEMS-SST\": \"#2665DACC\",\n",
    "        # \"CMEMS-MFC\": \"#54BD23CC\",\n",
    "        # \"CMEMS-MFCd\": \"#A926D1CC\",\n",
    "    },\n",
    "    title = \"Daily averaged data centered around 12am\",\n",
    "    fontsize = 14,\n",
    "    ylim=(24.5, 26.5),\n",
    "    xlim=(datetime(2020, 7, 1), datetime(2020, 7, 7)),\n",
    "    show_plot=False\n",
    ")\n",
    "with plt.rc_context({'font.size': 14}):\n",
    "    plt.fill_between([datetime(2020, 7, 4), datetime(2020, 7, 5)], 30, color=\"#2965AA86\", label=\"Average window\")\n",
    "    # plt.scatter(datetime(2020, 7, 3), ds_dragonera_insitu_foundation.T.sel(time=datetime(2020, 7, 3)), s=500, marker=\"x\", color=\"r\")\n",
    "    plt.scatter(datetime(2020, 7, 4), ds_dragonera_insitu_daily_12am.T.sel(time=datetime(2020, 7, 4)), s=500, marker=\"x\", color=\"r\")\n",
    "    # plt.scatter(datetime(2020, 7, 5), ds_dragonera_insitu_foundation.T.sel(time=datetime(2020, 7, 5)), s=500, marker=\"x\", color=\"r\")\n",
    "\n",
    "    plt.legend()\n",
    "\n",
    "plt.show()\n",
    "plt.clf()\n",
    "plt.close(\"all\")"
   ]
  }
 ],
 "metadata": {
  "kernelspec": {
   "display_name": "Python 3",
   "language": "python",
   "name": "python3"
  },
  "language_info": {
   "codemirror_mode": {
    "name": "ipython",
    "version": 3
   },
   "file_extension": ".py",
   "mimetype": "text/x-python",
   "name": "python",
   "nbconvert_exporter": "python",
   "pygments_lexer": "ipython3",
   "version": "3.10.12"
  }
 },
 "nbformat": 4,
 "nbformat_minor": 5
}
